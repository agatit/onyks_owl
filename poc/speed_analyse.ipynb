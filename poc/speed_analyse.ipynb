{
 "cells": [
  {
   "cell_type": "code",
   "execution_count": 145,
   "metadata": {},
   "outputs": [
    {
     "name": "stdout",
     "output_type": "stream",
     "text": [
      "The autoreload extension is already loaded. To reload it, use:\n",
      "  %reload_ext autoreload\n"
     ]
    }
   ],
   "source": [
    "%load_ext autoreload\n",
    "%autoreload 2\n",
    "%matplotlib inline\n",
    "\n",
    "import pandas as pd\n",
    "import numpy as np\n",
    "import ipywidgets as widgets\n",
    "from ipywidgets.widgets.interaction import show_inline_matplotlib_plots"
   ]
  },
  {
   "cell_type": "markdown",
   "metadata": {},
   "source": [
    "# Import Danych"
   ]
  },
  {
   "cell_type": "code",
   "execution_count": 146,
   "metadata": {},
   "outputs": [
    {
     "data": {
      "text/plain": [
       "{'same_wagony': 'resources\\\\speeds\\\\same_wagony\\\\same_wagony.avi'}"
      ]
     },
     "execution_count": 146,
     "metadata": {},
     "output_type": "execute_result"
    }
   ],
   "source": [
    "import json\n",
    "from pathlib import Path, PurePath\n",
    "from speed_analyse_scripts.utils import get_latest_file_from_directory\n",
    "from stitch.rectify.FrameRectifier import FrameRectifier\n",
    "\n",
    "file_extension = \"avi\"\n",
    "# file_extension = \"csv\"\n",
    "dir_paths = [\n",
    "    \"resources/speeds/same_wagony/\",\n",
    "    # \"resources/speeds/full_train/\",\n",
    "    # \"resources/speeds/full_train_speed_up/\",\n",
    "]\n",
    "\n",
    "rectify_config = \"resources/best.json\"\n",
    "with open(rectify_config) as f:\n",
    "    rectify_config = json.load(f)\n",
    "\n",
    "frame_size = (1920, 1080)\n",
    "frame_rectifier = FrameRectifier(rectify_config, *frame_size)\n",
    "frame_rectifier.calc_maps()\n",
    "\n",
    "files_paths = [get_latest_file_from_directory(dir_path, file_extension) for dir_path in dir_paths]\n",
    "files_paths = [PurePath(file_path) for file_path in files_paths]\n",
    "\n",
    "files = {}\n",
    "for file_path in files_paths:\n",
    "    parent_dir_name = file_path.parent.name\n",
    "    files[parent_dir_name] = str(file_path)\n",
    "    # files[parent_dir_name] = pd.read_csv(file_path)\n",
    "\n",
    "files\n"
   ]
  },
  {
   "cell_type": "code",
   "execution_count": 147,
   "metadata": {},
   "outputs": [
    {
     "name": "stdout",
     "output_type": "stream",
     "text": [
      "{'same_wagony': []}\n"
     ]
    },
    {
     "data": {
      "text/plain": [
       "[Measurement(dataset_name='same_wagony', method_name='lstsq', velocity_estimator=<stitch.speed.VelocityEstimator.VelocityEstimator object at 0x0000022009DF9520>, results=[]),\n",
       " Measurement(dataset_name='same_wagony', method_name='WLS', velocity_estimator=<stitch.speed.VelocityEstimator.VelocityEstimator object at 0x0000022009DF2FD0>, results=[])]"
      ]
     },
     "execution_count": 147,
     "metadata": {},
     "output_type": "execute_result"
    }
   ],
   "source": [
    "\n",
    "import copy\n",
    "from speed_analyse_scripts.utils import Measurement\n",
    "from stitch.speed.VelocityEstimator import VelocityEstimator\n",
    "from stitch.speed.regression.LstsqMethod import LstsqMethod\n",
    "from stitch.speed.regression.MeanMethod import MeanMethod\n",
    "from stitch.speed.regression.MedianMethod import MedianMethod\n",
    "from stitch.speed.regression.OlsMethod import OlsMethod\n",
    "from stitch.speed.regression.WlsMethod import WlsMethod\n",
    "\n",
    "velocity_estimators = {\n",
    "    \"lstsq\": VelocityEstimator(LstsqMethod(), LstsqMethod()),\n",
    "    # \"OLS\": VelocityEstimator(OlsMethod(), OlsMethod()),\n",
    "    # \"WLS\": VelocityEstimator(WlsMethod(), WlsMethod()),\n",
    "    \"Mean\": VelocityEstimator(MeanMethod(10), MeanMethod(2), center=False),\n",
    "    \"Median\": VelocityEstimator(MedianMethod(10), MedianMethod(2), center=False),\n",
    "}\n",
    "\n",
    "raw_velocities = {key: [] for key, value in files.items()}\n",
    "\n",
    "measurements = []\n",
    "for file_name in files.keys(): \n",
    "    for method_name, estimator in velocity_estimators.items():\n",
    "        velocity_estimator = copy.deepcopy(estimator)\n",
    "\n",
    "        measurement = Measurement(file_name, method_name, velocity_estimator, [])\n",
    "        measurements.append(measurement)\n",
    "\n",
    "print(raw_velocities)\n",
    "measurements\n"
   ]
  },
  {
   "cell_type": "markdown",
   "metadata": {},
   "source": [
    "# Testy metod na zbiorach"
   ]
  },
  {
   "cell_type": "code",
   "execution_count": 148,
   "metadata": {},
   "outputs": [],
   "source": [
    "import cv2\n",
    "from tqdm import tqdm\n",
    "\n",
    "def measure_velocity_from_movie(movie_path, dataset_name, frame_rectifier, *measurements, max_frames=-1):\n",
    "    input_cam = cv2.VideoCapture(movie_path)\n",
    "    total_frames = input_cam.get(cv2.CAP_PROP_FRAME_COUNT)\n",
    "\n",
    "    counter = 0\n",
    "    with tqdm(total=total_frames, desc=dataset_name) as pbar:\n",
    "        while input_cam.isOpened():\n",
    "            ret, frame = input_cam.read()\n",
    "\n",
    "            if ret:\n",
    "                frame = frame_rectifier.rectify(frame)\n",
    "                append_raw_velocity = True\n",
    "\n",
    "                for measurement in measurements:\n",
    "                    velocity = measurement.velocity_estimator.get_velocity(frame)\n",
    "                    result = (counter, velocity[0], velocity[1])\n",
    "                    measurement.results.append(result)\n",
    "\n",
    "                    if append_raw_velocity:\n",
    "                        measurement = measurements[0]\n",
    "                        raw_velocity = measurement.velocity_estimator.old_raw_velocity\n",
    "                        raw_velocities[dataset_name].append(raw_velocity)\n",
    "                        append_raw_velocity = False\n",
    "            else:\n",
    "                break\n",
    "\n",
    "\n",
    "            counter += 1\n",
    "            pbar.update(1)\n",
    "            \n",
    "            if max_frames > 0 and counter > max_frames:\n",
    "                break\n",
    "\n",
    "    input_cam.release()"
   ]
  },
  {
   "cell_type": "code",
   "execution_count": 149,
   "metadata": {},
   "outputs": [
    {
     "name": "stderr",
     "output_type": "stream",
     "text": [
      "same_wagony: 100%|██████████| 308/308.0 [00:52<00:00,  5.90it/s]\n"
     ]
    }
   ],
   "source": [
    "for dataset_name, file_path in files.items():\n",
    "    frame_size = (1920, 1080)\n",
    "    frame_rectifier = FrameRectifier(rectify_config, *frame_size)\n",
    "    frame_rectifier.calc_maps()\n",
    "\n",
    "    selected_measurements = filter(lambda x: x.dataset_name == dataset_name, measurements)\n",
    "    selected_measurements = list(selected_measurements)\n",
    "\n",
    "    max_frames = 500\n",
    "    measure_velocity_from_movie(file_path, dataset_name, frame_rectifier, max_frames=max_frames, *selected_measurements)    \n",
    "    "
   ]
  },
  {
   "cell_type": "code",
   "execution_count": 150,
   "metadata": {},
   "outputs": [],
   "source": [
    "from functools import reduce\n",
    "from speed_analyse_scripts.utils import filter_error\n",
    "\n",
    "filtered = {}\n",
    "for key, value in raw_velocities.items():\n",
    "    if len(value) != 0:\n",
    "        concatenated_array = reduce(lambda a, b: np.append(a, b, axis=0), value)\n",
    "        raw_velocities[key] = concatenated_array\n",
    "\n",
    "        df = pd.DataFrame(concatenated_array)\n",
    "        headers = [\"frame\", \"x\", \"y\"]\n",
    "        df.columns = headers\n",
    "        filtered[key] = filter_error(df).to_numpy()\n",
    "        "
   ]
  },
  {
   "cell_type": "code",
   "execution_count": 151,
   "metadata": {},
   "outputs": [
    {
     "data": {
      "text/plain": [
       "{'same_wagony': array([[ 0.00000000e+00,  0.00000000e+00,  0.00000000e+00],\n",
       "        [ 1.00000000e+00,  5.00488281e-03,  7.56835938e-03],\n",
       "        [ 1.00000000e+00,  7.32421875e-04, -1.22070312e-04],\n",
       "        ...,\n",
       "        [ 3.07000000e+02,  0.00000000e+00,  0.00000000e+00],\n",
       "        [ 3.07000000e+02, -2.38054657e+01, -3.17623138e-01],\n",
       "        [ 3.07000000e+02, -2.60095215e+01,  7.85537720e-01]])}"
      ]
     },
     "execution_count": 151,
     "metadata": {},
     "output_type": "execute_result"
    }
   ],
   "source": [
    "raw_velocities"
   ]
  },
  {
   "cell_type": "markdown",
   "metadata": {},
   "source": [
    "# Porównanie metod regresji"
   ]
  },
  {
   "cell_type": "code",
   "execution_count": 152,
   "metadata": {},
   "outputs": [
    {
     "name": "stderr",
     "output_type": "stream",
     "text": [
      "c:\\Users\\wrzezniczak\\Desktop\\onyks_owl\\poc\\speed_analyse_scripts\\ComposedPlot.py:33: UserWarning: Matplotlib is currently using module://matplotlib_inline.backend_inline, which is a non-GUI backend, so cannot show the figure.\n",
      "  self.fig.show()\n"
     ]
    },
    {
     "data": {
      "image/png": "[encoded data removed]",
      "text/plain": [
       "<Figure size 640x480 with 2 Axes>"
      ]
     },
     "metadata": {},
     "output_type": "display_data"
    }
   ],
   "source": [
    "from speed_analyse_scripts.ComposedPlot import ComposedPlot\n",
    "\n",
    "\n",
    "def ax1_call(axe):\n",
    "    color = \"tab:blue\"\n",
    "    axe.set_xlabel(\"frame\")\n",
    "    axe.set_ylabel(\"x\", color=color)\n",
    "    axe.tick_params(axis='y', labelcolor=color)\n",
    "\n",
    "def ax2_call(axe):\n",
    "    axe.set_ylabel(\"x\")\n",
    "\n",
    "for dataset_name in files.keys():\n",
    "    ax_callbacks = [ax1_call, ax2_call]\n",
    "    Composed_x = ComposedPlot(dataset_name, *ax_callbacks)\t\n",
    "\n",
    "    colors = [\"blue\", \"green\", \"orange\", \"purple\"]\n",
    "\n",
    "    # original = raw_velocities[dataset_name] \n",
    "    # x = original[:, 0]\n",
    "    # y = original[:, 1]\n",
    "    # Composed_x.add_plot(0, x, y, color=\"grey\", label=\"original x\")\n",
    "\n",
    "    # _filtered = filtered[dataset_name] \n",
    "    # x = _filtered[:, 0]\n",
    "    # y = _filtered[:, 1]\n",
    "    # Composed_x.add_plot(1, x, y, color=\"grey\", label=\"filtered x\")\n",
    "    \n",
    "    selected_measurements = filter(lambda x: x.dataset_name == dataset_name, measurements)\n",
    "    selected_measurements = list(selected_measurements)\n",
    "    for measurement, color in zip(selected_measurements, colors):\n",
    "        array = np.array(measurement.results)\n",
    "        x = array[:, 0]\n",
    "        y = array[:, 1]\n",
    "        Composed_x.add_plot(1, x, y, color=color, label=measurement.method_name)\n",
    "    Composed_x.show_composed()"
   ]
  },
  {
   "cell_type": "code",
   "execution_count": 153,
   "metadata": {},
   "outputs": [],
   "source": [
    "# import random\n",
    "\n",
    "# def raw_velocity_generator(frames_number: int, measurements_in_frame: tuple[int, int],\n",
    "#                             data_range: tuple[int, int]) -> object:\n",
    "#     for frame_number in range(1, frames_number):\n",
    "#         measurements_number = random.choice(list(range(*measurements_in_frame)))\n",
    "#         shape = (measurements_number, 1)\n",
    "\n",
    "#         frame = np.tile([frame_number], shape)\n",
    "\n",
    "#         min_val, max_val = data_range\n",
    "#         x = np.random.uniform(min_val, max_val, shape)\n",
    "#         y = np.random.uniform(min_val, max_val, shape)\n",
    "\n",
    "#         yield np.hstack([frame, x, y])\n",
    "\n",
    "# def remove_random_frames(raw_velocity, number_to_remove):\n",
    "#     frames_numbers = np.unique(raw_velocity[:, 0])\n",
    "#     indexes_to_remove = random.sample(list(frames_numbers), number_to_remove)\n",
    "\n",
    "#     conditions = []\n",
    "#     for i in indexes_to_remove:\n",
    "#         conditions.append(raw_velocity[:, 0] != i)\n",
    "\n",
    "#     mask = np.logical_and.reduce(np.array(conditions))\n",
    "#     return raw_velocity[mask]\n",
    "\n"
   ]
  },
  {
   "cell_type": "code",
   "execution_count": 154,
   "metadata": {},
   "outputs": [],
   "source": [
    "# from unittest.mock import patch\n",
    "# from stitch.speed.regression.MeanMethod import MeanMethod\n",
    "\n",
    "\n",
    "# mean_estimator = VelocityEstimator(MeanMethod(), MeanMethod())\n",
    "# estimators = [mean_estimator]\n",
    "\n",
    "# @patch()\n",
    "# def test_estimator(estimator, frame, counter):\n",
    "#     velocity = estimator.get_velocity(frame)\n",
    "#     result = (counter, velocity[0], velocity[1])\n",
    "#     print(result)\n",
    "\n",
    "# for counter, frame in enumerate(raw_velocity_generator(10, (0, 10), (-100, 100))):\n",
    "#     for estimator in estimators:\n",
    "#        test_estimator(estimator, frame, counter)     "
   ]
  }
 ],
 "metadata": {
  "kernelspec": {
   "display_name": "Python 3",
   "language": "python",
   "name": "python3"
  },
  "language_info": {
   "codemirror_mode": {
    "name": "ipython",
    "version": 3
   },
   "file_extension": ".py",
   "mimetype": "text/x-python",
   "name": "python",
   "nbconvert_exporter": "python",
   "pygments_lexer": "ipython3",
   "version": "3.9.16"
  },
  "orig_nbformat": 4
 },
 "nbformat": 4,
 "nbformat_minor": 2
}
