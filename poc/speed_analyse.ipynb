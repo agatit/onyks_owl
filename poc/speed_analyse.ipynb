{
 "cells": [
  {
   "cell_type": "code",
   "execution_count": 69,
   "metadata": {},
   "outputs": [
    {
     "name": "stdout",
     "output_type": "stream",
     "text": [
      "The autoreload extension is already loaded. To reload it, use:\n",
      "  %reload_ext autoreload\n"
     ]
    }
   ],
   "source": [
    "%load_ext autoreload\n",
    "%autoreload 2\n",
    "%matplotlib inline\n",
    "\n",
    "import pandas as pd\n",
    "import numpy as np\n",
    "import ipywidgets as widgets\n",
    "from ipywidgets.widgets.interaction import show_inline_matplotlib_plots"
   ]
  },
  {
   "cell_type": "markdown",
   "metadata": {},
   "source": [
    "# Import Danych"
   ]
  },
  {
   "cell_type": "code",
   "execution_count": 70,
   "metadata": {},
   "outputs": [
    {
     "data": {
      "text/plain": [
       "{'same_wagony': 'resources\\\\speeds\\\\same_wagony\\\\same_wagony.avi'}"
      ]
     },
     "execution_count": 70,
     "metadata": {},
     "output_type": "execute_result"
    }
   ],
   "source": [
    "import json\n",
    "from pathlib import Path, PurePath\n",
    "from speed_analyse_scripts.utils import get_latest_file_from_directory\n",
    "from stitch.rectify.FrameRectifier import FrameRectifier\n",
    "\n",
    "file_extension = \"avi\"\n",
    "# file_extension = \"csv\"\n",
    "dir_paths = [\n",
    "    \"resources/speeds/same_wagony/\",\n",
    "    # \"resources/speeds/full_train/\",\n",
    "    # \"resources/speeds/full_train_speed_up/\",\n",
    "]\n",
    "\n",
    "rectify_config = \"resources/best.json\"\n",
    "with open(rectify_config) as f:\n",
    "    rectify_config = json.load(f)\n",
    "\n",
    "frame_size = (1920, 1080)\n",
    "frame_rectifier = FrameRectifier(rectify_config, *frame_size)\n",
    "frame_rectifier.calc_maps()\n",
    "\n",
    "files_paths = [get_latest_file_from_directory(dir_path, file_extension) for dir_path in dir_paths]\n",
    "files_paths = [PurePath(file_path) for file_path in files_paths]\n",
    "\n",
    "files = {}\n",
    "for file_path in files_paths:\n",
    "    parent_dir_name = file_path.parent.name\n",
    "    files[parent_dir_name] = str(file_path)\n",
    "    # files[parent_dir_name] = pd.read_csv(file_path)\n",
    "\n",
    "files\n"
   ]
  },
  {
   "cell_type": "code",
   "execution_count": 71,
   "metadata": {},
   "outputs": [
    {
     "name": "stdout",
     "output_type": "stream",
     "text": [
      "{'same_wagony': []}\n"
     ]
    },
    {
     "data": {
      "text/plain": [
       "[Measurement(dataset_name='same_wagony', method_name='lstsq', velocity_estimator=<stitch.speed.VelocityEstimator.VelocityEstimator object at 0x00000185BF77DFD0>, results=[], timer=<speed_analyse_scripts.utils.Timer object at 0x00000185A54EC2B0>)]"
      ]
     },
     "execution_count": 71,
     "metadata": {},
     "output_type": "execute_result"
    }
   ],
   "source": [
    "\n",
    "import copy\n",
    "from speed_analyse_scripts.utils import Measurement, Timer\n",
    "from stitch.speed.VelocityEstimator import VelocityEstimator\n",
    "from stitch.speed.regression.FilterErrorMethod import FilterErrorMethod\n",
    "from stitch.speed.regression.LstsqMethod import LstsqMethod\n",
    "from stitch.speed.regression.MeanMethod import MeanMethod\n",
    "from stitch.speed.regression.MedianMethod import MedianMethod\n",
    "from stitch.speed.regression.OlsMethod import OlsMethod\n",
    "from stitch.speed.regression.WlsMethod import WlsMethod\n",
    "\n",
    "velocity_estimators = {\n",
    "    \"lstsq\": VelocityEstimator(LstsqMethod(), LstsqMethod()),\n",
    "    # \"OLS\": VelocityEstimator(OlsMethod(), OlsMethod()),\n",
    "    # \"WLS\": VelocityEstimator(WlsMethod(), WlsMethod()),\n",
    "    # \"Mean\": VelocityEstimator(MeanMethod(10), MeanMethod(2), center=False),\n",
    "    # \"Median\": VelocityEstimator(MedianMethod(10), MedianMethod(2), center=False),\n",
    "    \"Filter\": VelocityEstimator(FilterErrorMethod(False), FilterErrorMethod(False), center=False),\n",
    "    \"Filter_R\": VelocityEstimator(FilterErrorMethod(True), FilterErrorMethod(True), center=False),\n",
    "}\n",
    "\n",
    "raw_velocities = {key: [] for key, value in files.items()}\n",
    "\n",
    "measurements = []\n",
    "for file_name in files.keys(): \n",
    "    for method_name, estimator in velocity_estimators.items():\n",
    "        velocity_estimator = copy.deepcopy(estimator)\n",
    "\n",
    "        measurement = Measurement(file_name, method_name, velocity_estimator, [], Timer())\n",
    "        measurements.append(measurement)\n",
    "\n",
    "print(raw_velocities)\n",
    "measurements\n"
   ]
  },
  {
   "cell_type": "markdown",
   "metadata": {},
   "source": [
    "# Testy metod na zbiorach"
   ]
  },
  {
   "cell_type": "code",
   "execution_count": 72,
   "metadata": {},
   "outputs": [],
   "source": [
    "import cv2\n",
    "from tqdm import tqdm\n",
    "\n",
    "def measure_velocity_from_movie(movie_path, dataset_name, frame_rectifier, *measurements, max_frames=-1, min_frames=-1):\n",
    "    input_cam = cv2.VideoCapture(movie_path)\n",
    "    total_frames = input_cam.get(cv2.CAP_PROP_FRAME_COUNT)\n",
    "\n",
    "    counter = 0\n",
    "    with tqdm(total=total_frames, desc=dataset_name) as pbar:\n",
    "        while input_cam.isOpened():\n",
    "            ret, frame = input_cam.read()\n",
    "\n",
    "            if counter < min_frames and min_frames > 0:\n",
    "                counter += 1\n",
    "                pbar.update(1)\n",
    "                continue\n",
    "\n",
    "            if counter > max_frames and max_frames > 0:\n",
    "                pbar.close()\n",
    "                break\n",
    "\n",
    "            if ret:\n",
    "\n",
    "                frame = frame_rectifier.rectify(frame)\n",
    "                append_raw_velocity = True\n",
    "\n",
    "                for measurement in measurements:\n",
    "                    measurement.timer.start()\n",
    "                    velocity = measurement.velocity_estimator.get_velocity(frame)\n",
    "                    measurement.timer.stop()\n",
    "                    \n",
    "                    result = (counter, velocity[0], velocity[1])\n",
    "                    measurement.results.append(result)\n",
    "\n",
    "                    if append_raw_velocity:\n",
    "                        measurement = measurements[0]\n",
    "                        raw_velocity = measurement.velocity_estimator.old_raw_velocity\n",
    "                        raw_velocities[dataset_name].append(raw_velocity)\n",
    "                        append_raw_velocity = False\n",
    "            else:\n",
    "                break\n",
    "\n",
    "            counter += 1\n",
    "            pbar.update(1)\n",
    "            \n",
    "\n",
    "\n",
    "    input_cam.release()"
   ]
  },
  {
   "cell_type": "code",
   "execution_count": 73,
   "metadata": {},
   "outputs": [
    {
     "name": "stderr",
     "output_type": "stream",
     "text": [
      "same_wagony:   0%|          | 0/308.0 [00:00<?, ?it/s]"
     ]
    },
    {
     "name": "stderr",
     "output_type": "stream",
     "text": [
      "same_wagony:  33%|███▎      | 101/308.0 [00:05<00:10, 20.00it/s]\n"
     ]
    },
    {
     "data": {
      "text/plain": [
       "[0.06491875648498535]"
      ]
     },
     "execution_count": 73,
     "metadata": {},
     "output_type": "execute_result"
    }
   ],
   "source": [
    "for dataset_name, file_path in files.items():\n",
    "    frame_size = (1920, 1080)\n",
    "    frame_rectifier = FrameRectifier(rectify_config, *frame_size)\n",
    "    frame_rectifier.calc_maps()\n",
    "\n",
    "    selected_measurements = filter(lambda x: x.dataset_name == dataset_name, measurements)\n",
    "    selected_measurements = list(selected_measurements)\n",
    "\n",
    "    min_frames = 50\n",
    "    max_frames = 100\n",
    "    measure_velocity_from_movie(file_path, dataset_name, frame_rectifier, max_frames=max_frames, min_frames=min_frames, *selected_measurements)    \n",
    "\n",
    "values = [i.timer.elapsed_time for i in measurements]\n",
    "values"
   ]
  },
  {
   "cell_type": "code",
   "execution_count": 74,
   "metadata": {},
   "outputs": [],
   "source": [
    "from functools import reduce\n",
    "from speed_analyse_scripts.utils import filter_error\n",
    "\n",
    "filtered = {}\n",
    "for key, value in raw_velocities.items():\n",
    "    if len(value) != 0:\n",
    "        concatenated_array = reduce(lambda a, b: np.append(a, b, axis=0), value)\n",
    "        raw_velocities[key] = concatenated_array\n",
    "\n",
    "        df = pd.DataFrame(concatenated_array)\n",
    "        headers = [\"frame\", \"x\", \"y\"]\n",
    "        df.columns = headers\n",
    "        filtered[key] = filter_error(df).to_numpy()\n",
    "        "
   ]
  },
  {
   "cell_type": "code",
   "execution_count": 75,
   "metadata": {},
   "outputs": [
    {
     "data": {
      "text/plain": [
       "{'same_wagony': array([[  0.        ,   0.        ,   0.        ],\n",
       "        [  1.        , -22.66113281,  -0.16888428],\n",
       "        [  1.        , -23.06555176,  -0.0557251 ],\n",
       "        ...,\n",
       "        [ 50.        , -24.23791504,   0.33917236],\n",
       "        [ 50.        , -23.37976074,   0.64083862],\n",
       "        [ 50.        , -23.28112793,   0.24945068]])}"
      ]
     },
     "execution_count": 75,
     "metadata": {},
     "output_type": "execute_result"
    }
   ],
   "source": [
    "raw_velocities"
   ]
  },
  {
   "cell_type": "markdown",
   "metadata": {},
   "source": [
    "# Porównanie metod regresji"
   ]
  },
  {
   "cell_type": "code",
   "execution_count": 76,
   "metadata": {},
   "outputs": [
    {
     "name": "stderr",
     "output_type": "stream",
     "text": [
      "c:\\Users\\wrzezniczak\\Desktop\\onyks_owl\\poc\\speed_analyse_scripts\\ComposedPlot.py:33: UserWarning: Matplotlib is currently using module://matplotlib_inline.backend_inline, which is a non-GUI backend, so cannot show the figure.\n",
      "  self.fig.show()\n"
     ]
    },
    {
     "data": {
      "image/png": "[encoded data removed]",
      "text/plain": [
       "<Figure size 640x480 with 2 Axes>"
      ]
     },
     "metadata": {},
     "output_type": "display_data"
    }
   ],
   "source": [
    "from speed_analyse_scripts.ComposedPlot import ComposedPlot\n",
    "from matplotlib import pyplot as plt\n",
    "\n",
    "\n",
    "\n",
    "def ax1_call(axe):\n",
    "    color = \"tab:blue\"\n",
    "    axe.set_xlabel(\"frame\")\n",
    "    axe.set_ylabel(\"x\", color=color)\n",
    "    axe.tick_params(axis='y', labelcolor=color)\n",
    "\n",
    "def ax2_call(axe):\n",
    "    axe.set_ylabel(\"x\")\n",
    "\n",
    "for dataset_name in files.keys():\n",
    "    ax_callbacks = [ax1_call, ax2_call]\n",
    "    Composed_x = ComposedPlot(dataset_name, *ax_callbacks)\t\n",
    "\n",
    "    colors = [\"blue\", \"green\", \"orange\", \"purple\"]\n",
    "\n",
    "    # original = raw_velocities[dataset_name] \n",
    "    # x = original[:, 0]\n",
    "    # y = original[:, 1]\n",
    "    # Composed_x.add_plot(0, x, y, color=\"grey\", label=\"original x\")\n",
    "\n",
    "    # _filtered = filtered[dataset_name] \n",
    "    # x = _filtered[:, 0]\n",
    "    # y = _filtered[:, 1]\n",
    "    # Composed_x.add_plot(1, x, y, color=\"grey\", label=\"filtered x\")\n",
    "    \n",
    "    selected_measurements = filter(lambda x: x.dataset_name == dataset_name, measurements)\n",
    "    selected_measurements = list(selected_measurements)\n",
    "    for measurement in selected_measurements:\n",
    "        color = (np.random.random(), np.random.random(), np.random.random())\n",
    "        \n",
    "        array = np.array(measurement.results)\n",
    "        x = array[:, 0]\n",
    "        y = array[:, 1]\n",
    "        Composed_x.add_plot(1, x, y, color=color, label=measurement.method_name)\n",
    "    Composed_x.show_composed()"
   ]
  },
  {
   "cell_type": "code",
   "execution_count": 77,
   "metadata": {},
   "outputs": [
    {
     "data": {
      "image/png": "[encoded data removed]",
      "text/plain": [
       "<Figure size 640x480 with 1 Axes>"
      ]
     },
     "metadata": {},
     "output_type": "display_data"
    }
   ],
   "source": [
    "names = [i.method_name for i in measurements]\n",
    "values = [i.timer.elapsed_time for i in measurements]\n",
    "plt.bar(names, values)\n",
    "plt.title(f\"{dataset_name} methods' time\")\n",
    "plt.xlabel(\"method\")\n",
    "plt.ylabel(\"seconds\")\n",
    "plt.show()"
   ]
  },
  {
   "cell_type": "code",
   "execution_count": 78,
   "metadata": {},
   "outputs": [
    {
     "ename": "IndexError",
     "evalue": "list index out of range",
     "output_type": "error",
     "traceback": [
      "\u001b[1;31m---------------------------------------------------------------------------\u001b[0m",
      "\u001b[1;31mIndexError\u001b[0m                                Traceback (most recent call last)",
      "\u001b[1;32mc:\\Users\\wrzezniczak\\Desktop\\onyks_owl\\poc\\speed_analyse.ipynb Cell 13\u001b[0m line \u001b[0;36m<cell line: 6>\u001b[1;34m()\u001b[0m\n\u001b[0;32m      <a href='vscode-notebook-cell:/c%3A/Users/wrzezniczak/Desktop/onyks_owl/poc/speed_analyse.ipynb#X15sZmlsZQ%3D%3D?line=2'>3</a>\u001b[0m \u001b[39mdef\u001b[39;00m \u001b[39mselect_measurement\u001b[39m(measurement):\n\u001b[0;32m      <a href='vscode-notebook-cell:/c%3A/Users/wrzezniczak/Desktop/onyks_owl/poc/speed_analyse.ipynb#X15sZmlsZQ%3D%3D?line=3'>4</a>\u001b[0m     \u001b[39mreturn\u001b[39;00m measurement\u001b[39m.\u001b[39mdataset_name \u001b[39m==\u001b[39m dataset \u001b[39mand\u001b[39;00m measurement\u001b[39m.\u001b[39mmethod_name \u001b[39m==\u001b[39m method\n\u001b[1;32m----> <a href='vscode-notebook-cell:/c%3A/Users/wrzezniczak/Desktop/onyks_owl/poc/speed_analyse.ipynb#X15sZmlsZQ%3D%3D?line=5'>6</a>\u001b[0m selected_measurement \u001b[39m=\u001b[39m \u001b[39mlist\u001b[39;49m(\u001b[39mfilter\u001b[39;49m(select_measurement, measurements))[\u001b[39m0\u001b[39;49m]\n\u001b[0;32m      <a href='vscode-notebook-cell:/c%3A/Users/wrzezniczak/Desktop/onyks_owl/poc/speed_analyse.ipynb#X15sZmlsZQ%3D%3D?line=6'>7</a>\u001b[0m results \u001b[39m=\u001b[39m np\u001b[39m.\u001b[39marray(selected_measurement\u001b[39m.\u001b[39mresults)\n\u001b[0;32m      <a href='vscode-notebook-cell:/c%3A/Users/wrzezniczak/Desktop/onyks_owl/poc/speed_analyse.ipynb#X15sZmlsZQ%3D%3D?line=7'>8</a>\u001b[0m x \u001b[39m=\u001b[39m results[:, \u001b[39m0\u001b[39m]\n",
      "\u001b[1;31mIndexError\u001b[0m: list index out of range"
     ]
    }
   ],
   "source": [
    "\n",
    "\n",
    "dataset = 'same_wagony'\n",
    "method = 'Filter'\n",
    "def select_measurement(measurement):\n",
    "    return measurement.dataset_name == dataset and measurement.method_name == method\n",
    "\n",
    "selected_measurement = list(filter(select_measurement, measurements))[0]\n",
    "results = np.array(selected_measurement.results)\n",
    "x = results[:, 0]\n",
    "y = results[:, 1]\n",
    "\n",
    "plt.plot(x, y)\n",
    "plt.title(f\"{dataset} {method}\")\n",
    "plt.xlabel(\"frames\")\n",
    "plt.ylabel(\"x\")\n",
    "plt.show()\n"
   ]
  },
  {
   "cell_type": "code",
   "execution_count": null,
   "metadata": {},
   "outputs": [
    {
     "ename": "AttributeError",
     "evalue": "module '__main__' has no attribute '__spec__'",
     "output_type": "error",
     "traceback": [
      "\u001b[1;31m---------------------------------------------------------------------------\u001b[0m",
      "\u001b[1;31mAttributeError\u001b[0m                            Traceback (most recent call last)",
      "File \u001b[1;32m~\\Desktop\\onyks_owl\\poc\\speed_analyse.py:23\u001b[0m, in \u001b[0;36m<module>\u001b[1;34m\u001b[0m\n\u001b[0;32m     19\u001b[0m         p\u001b[39m.\u001b[39mstarmap(counter, map_list)\n\u001b[0;32m     22\u001b[0m \u001b[39mif\u001b[39;00m \u001b[39m__name__\u001b[39m \u001b[39m==\u001b[39m \u001b[39m'\u001b[39m\u001b[39m__main__\u001b[39m\u001b[39m'\u001b[39m:\n\u001b[1;32m---> 23\u001b[0m     main()\n",
      "File \u001b[1;32m~\\Desktop\\onyks_owl\\poc\\speed_analyse.py:14\u001b[0m, in \u001b[0;36mmain\u001b[1;34m()\u001b[0m\n\u001b[0;32m     13\u001b[0m \u001b[39mdef\u001b[39;00m \u001b[39mmain\u001b[39m():\n\u001b[1;32m---> 14\u001b[0m     \u001b[39mwith\u001b[39;00m Pool(\u001b[39m5\u001b[39;49m) \u001b[39mas\u001b[39;00m p:\n\u001b[0;32m     15\u001b[0m         map_list \u001b[39m=\u001b[39m []\n\u001b[0;32m     16\u001b[0m         \u001b[39mfor\u001b[39;00m i \u001b[39min\u001b[39;00m \u001b[39mrange\u001b[39m(\u001b[39m10\u001b[39m):\n",
      "File \u001b[1;32mc:\\Users\\wrzezniczak\\AppData\\Local\\anaconda3\\envs\\torch39\\lib\\multiprocessing\\context.py:119\u001b[0m, in \u001b[0;36mBaseContext.Pool\u001b[1;34m(self, processes, initializer, initargs, maxtasksperchild)\u001b[0m\n\u001b[0;32m    117\u001b[0m \u001b[39m\u001b[39m\u001b[39m'''Returns a process pool object'''\u001b[39;00m\n\u001b[0;32m    118\u001b[0m \u001b[39mfrom\u001b[39;00m \u001b[39m.\u001b[39;00m\u001b[39mpool\u001b[39;00m \u001b[39mimport\u001b[39;00m Pool\n\u001b[1;32m--> 119\u001b[0m \u001b[39mreturn\u001b[39;00m Pool(processes, initializer, initargs, maxtasksperchild,\n\u001b[0;32m    120\u001b[0m             context\u001b[39m=\u001b[39;49m\u001b[39mself\u001b[39;49m\u001b[39m.\u001b[39;49mget_context())\n",
      "File \u001b[1;32mc:\\Users\\wrzezniczak\\AppData\\Local\\anaconda3\\envs\\torch39\\lib\\multiprocessing\\pool.py:212\u001b[0m, in \u001b[0;36mPool.__init__\u001b[1;34m(self, processes, initializer, initargs, maxtasksperchild, context)\u001b[0m\n\u001b[0;32m    210\u001b[0m \u001b[39mself\u001b[39m\u001b[39m.\u001b[39m_processes \u001b[39m=\u001b[39m processes\n\u001b[0;32m    211\u001b[0m \u001b[39mtry\u001b[39;00m:\n\u001b[1;32m--> 212\u001b[0m     \u001b[39mself\u001b[39;49m\u001b[39m.\u001b[39;49m_repopulate_pool()\n\u001b[0;32m    213\u001b[0m \u001b[39mexcept\u001b[39;00m \u001b[39mException\u001b[39;00m:\n\u001b[0;32m    214\u001b[0m     \u001b[39mfor\u001b[39;00m p \u001b[39min\u001b[39;00m \u001b[39mself\u001b[39m\u001b[39m.\u001b[39m_pool:\n",
      "File \u001b[1;32mc:\\Users\\wrzezniczak\\AppData\\Local\\anaconda3\\envs\\torch39\\lib\\multiprocessing\\pool.py:303\u001b[0m, in \u001b[0;36mPool._repopulate_pool\u001b[1;34m(self)\u001b[0m\n\u001b[0;32m    302\u001b[0m \u001b[39mdef\u001b[39;00m \u001b[39m_repopulate_pool\u001b[39m(\u001b[39mself\u001b[39m):\n\u001b[1;32m--> 303\u001b[0m     \u001b[39mreturn\u001b[39;00m \u001b[39mself\u001b[39;49m\u001b[39m.\u001b[39;49m_repopulate_pool_static(\u001b[39mself\u001b[39;49m\u001b[39m.\u001b[39;49m_ctx, \u001b[39mself\u001b[39;49m\u001b[39m.\u001b[39;49mProcess,\n\u001b[0;32m    304\u001b[0m                                         \u001b[39mself\u001b[39;49m\u001b[39m.\u001b[39;49m_processes,\n\u001b[0;32m    305\u001b[0m                                         \u001b[39mself\u001b[39;49m\u001b[39m.\u001b[39;49m_pool, \u001b[39mself\u001b[39;49m\u001b[39m.\u001b[39;49m_inqueue,\n\u001b[0;32m    306\u001b[0m                                         \u001b[39mself\u001b[39;49m\u001b[39m.\u001b[39;49m_outqueue, \u001b[39mself\u001b[39;49m\u001b[39m.\u001b[39;49m_initializer,\n\u001b[0;32m    307\u001b[0m                                         \u001b[39mself\u001b[39;49m\u001b[39m.\u001b[39;49m_initargs,\n\u001b[0;32m    308\u001b[0m                                         \u001b[39mself\u001b[39;49m\u001b[39m.\u001b[39;49m_maxtasksperchild,\n\u001b[0;32m    309\u001b[0m                                         \u001b[39mself\u001b[39;49m\u001b[39m.\u001b[39;49m_wrap_exception)\n",
      "File \u001b[1;32mc:\\Users\\wrzezniczak\\AppData\\Local\\anaconda3\\envs\\torch39\\lib\\multiprocessing\\pool.py:326\u001b[0m, in \u001b[0;36mPool._repopulate_pool_static\u001b[1;34m(ctx, Process, processes, pool, inqueue, outqueue, initializer, initargs, maxtasksperchild, wrap_exception)\u001b[0m\n\u001b[0;32m    324\u001b[0m w\u001b[39m.\u001b[39mname \u001b[39m=\u001b[39m w\u001b[39m.\u001b[39mname\u001b[39m.\u001b[39mreplace(\u001b[39m'\u001b[39m\u001b[39mProcess\u001b[39m\u001b[39m'\u001b[39m, \u001b[39m'\u001b[39m\u001b[39mPoolWorker\u001b[39m\u001b[39m'\u001b[39m)\n\u001b[0;32m    325\u001b[0m w\u001b[39m.\u001b[39mdaemon \u001b[39m=\u001b[39m \u001b[39mTrue\u001b[39;00m\n\u001b[1;32m--> 326\u001b[0m w\u001b[39m.\u001b[39;49mstart()\n\u001b[0;32m    327\u001b[0m pool\u001b[39m.\u001b[39mappend(w)\n\u001b[0;32m    328\u001b[0m util\u001b[39m.\u001b[39mdebug(\u001b[39m'\u001b[39m\u001b[39madded worker\u001b[39m\u001b[39m'\u001b[39m)\n",
      "File \u001b[1;32mc:\\Users\\wrzezniczak\\AppData\\Local\\anaconda3\\envs\\torch39\\lib\\multiprocessing\\process.py:121\u001b[0m, in \u001b[0;36mBaseProcess.start\u001b[1;34m(self)\u001b[0m\n\u001b[0;32m    118\u001b[0m \u001b[39massert\u001b[39;00m \u001b[39mnot\u001b[39;00m _current_process\u001b[39m.\u001b[39m_config\u001b[39m.\u001b[39mget(\u001b[39m'\u001b[39m\u001b[39mdaemon\u001b[39m\u001b[39m'\u001b[39m), \\\n\u001b[0;32m    119\u001b[0m        \u001b[39m'\u001b[39m\u001b[39mdaemonic processes are not allowed to have children\u001b[39m\u001b[39m'\u001b[39m\n\u001b[0;32m    120\u001b[0m _cleanup()\n\u001b[1;32m--> 121\u001b[0m \u001b[39mself\u001b[39m\u001b[39m.\u001b[39m_popen \u001b[39m=\u001b[39m \u001b[39mself\u001b[39;49m\u001b[39m.\u001b[39;49m_Popen(\u001b[39mself\u001b[39;49m)\n\u001b[0;32m    122\u001b[0m \u001b[39mself\u001b[39m\u001b[39m.\u001b[39m_sentinel \u001b[39m=\u001b[39m \u001b[39mself\u001b[39m\u001b[39m.\u001b[39m_popen\u001b[39m.\u001b[39msentinel\n\u001b[0;32m    123\u001b[0m \u001b[39m# Avoid a refcycle if the target function holds an indirect\u001b[39;00m\n\u001b[0;32m    124\u001b[0m \u001b[39m# reference to the process object (see bpo-30775)\u001b[39;00m\n",
      "File \u001b[1;32mc:\\Users\\wrzezniczak\\AppData\\Local\\anaconda3\\envs\\torch39\\lib\\multiprocessing\\context.py:327\u001b[0m, in \u001b[0;36mSpawnProcess._Popen\u001b[1;34m(process_obj)\u001b[0m\n\u001b[0;32m    324\u001b[0m \u001b[39m@staticmethod\u001b[39m\n\u001b[0;32m    325\u001b[0m \u001b[39mdef\u001b[39;00m \u001b[39m_Popen\u001b[39m(process_obj):\n\u001b[0;32m    326\u001b[0m     \u001b[39mfrom\u001b[39;00m \u001b[39m.\u001b[39;00m\u001b[39mpopen_spawn_win32\u001b[39;00m \u001b[39mimport\u001b[39;00m Popen\n\u001b[1;32m--> 327\u001b[0m     \u001b[39mreturn\u001b[39;00m Popen(process_obj)\n",
      "File \u001b[1;32mc:\\Users\\wrzezniczak\\AppData\\Local\\anaconda3\\envs\\torch39\\lib\\multiprocessing\\popen_spawn_win32.py:45\u001b[0m, in \u001b[0;36mPopen.__init__\u001b[1;34m(self, process_obj)\u001b[0m\n\u001b[0;32m     44\u001b[0m \u001b[39mdef\u001b[39;00m \u001b[39m__init__\u001b[39m(\u001b[39mself\u001b[39m, process_obj):\n\u001b[1;32m---> 45\u001b[0m     prep_data \u001b[39m=\u001b[39m spawn\u001b[39m.\u001b[39;49mget_preparation_data(process_obj\u001b[39m.\u001b[39;49m_name)\n\u001b[0;32m     47\u001b[0m     \u001b[39m# read end of pipe will be duplicated by the child process\u001b[39;00m\n\u001b[0;32m     48\u001b[0m     \u001b[39m# -- see spawn_main() in spawn.py.\u001b[39;00m\n\u001b[0;32m     49\u001b[0m     \u001b[39m#\u001b[39;00m\n\u001b[0;32m     50\u001b[0m     \u001b[39m# bpo-33929: Previously, the read end of pipe was \"stolen\" by the child\u001b[39;00m\n\u001b[0;32m     51\u001b[0m     \u001b[39m# process, but it leaked a handle if the child process had been\u001b[39;00m\n\u001b[0;32m     52\u001b[0m     \u001b[39m# terminated before it could steal the handle from the parent process.\u001b[39;00m\n\u001b[0;32m     53\u001b[0m     rhandle, whandle \u001b[39m=\u001b[39m _winapi\u001b[39m.\u001b[39mCreatePipe(\u001b[39mNone\u001b[39;00m, \u001b[39m0\u001b[39m)\n",
      "File \u001b[1;32mc:\\Users\\wrzezniczak\\AppData\\Local\\anaconda3\\envs\\torch39\\lib\\multiprocessing\\spawn.py:183\u001b[0m, in \u001b[0;36mget_preparation_data\u001b[1;34m(name)\u001b[0m\n\u001b[0;32m    180\u001b[0m \u001b[39m# Figure out whether to initialise main in the subprocess as a module\u001b[39;00m\n\u001b[0;32m    181\u001b[0m \u001b[39m# or through direct execution (or to leave it alone entirely)\u001b[39;00m\n\u001b[0;32m    182\u001b[0m main_module \u001b[39m=\u001b[39m sys\u001b[39m.\u001b[39mmodules[\u001b[39m'\u001b[39m\u001b[39m__main__\u001b[39m\u001b[39m'\u001b[39m]\n\u001b[1;32m--> 183\u001b[0m main_mod_name \u001b[39m=\u001b[39m \u001b[39mgetattr\u001b[39m(main_module\u001b[39m.\u001b[39;49m__spec__, \u001b[39m\"\u001b[39m\u001b[39mname\u001b[39m\u001b[39m\"\u001b[39m, \u001b[39mNone\u001b[39;00m)\n\u001b[0;32m    184\u001b[0m \u001b[39mif\u001b[39;00m main_mod_name \u001b[39mis\u001b[39;00m \u001b[39mnot\u001b[39;00m \u001b[39mNone\u001b[39;00m:\n\u001b[0;32m    185\u001b[0m     d[\u001b[39m'\u001b[39m\u001b[39minit_main_from_name\u001b[39m\u001b[39m'\u001b[39m] \u001b[39m=\u001b[39m main_mod_name\n",
      "\u001b[1;31mAttributeError\u001b[0m: module '__main__' has no attribute '__spec__'"
     ]
    },
    {
     "name": "stdout",
     "output_type": "stream",
     "text": [
      "end\n"
     ]
    },
    {
     "data": {
      "text/plain": [
       "<Figure size 640x480 with 0 Axes>"
      ]
     },
     "metadata": {},
     "output_type": "display_data"
    }
   ],
   "source": [
    "%run speed_analyse.py\n",
    "print(\"end\")"
   ]
  },
  {
   "cell_type": "code",
   "execution_count": null,
   "metadata": {},
   "outputs": [
    {
     "data": {
      "text/plain": [
       "3.014462471008301"
      ]
     },
     "execution_count": 46,
     "metadata": {},
     "output_type": "execute_result"
    }
   ],
   "source": [
    "import time\n",
    "\n",
    "\n",
    "t = Timer()\n",
    "t.start()\n",
    "time.sleep(3)\n",
    "t.stop()\n",
    "\n",
    "t.elapsed_time"
   ]
  }
 ],
 "metadata": {
  "kernelspec": {
   "display_name": "Python 3",
   "language": "python",
   "name": "python3"
  },
  "language_info": {
   "codemirror_mode": {
    "name": "ipython",
    "version": 3
   },
   "file_extension": ".py",
   "mimetype": "text/x-python",
   "name": "python",
   "nbconvert_exporter": "python",
   "pygments_lexer": "ipython3",
   "version": "3.9.16"
  },
  "orig_nbformat": 4
 },
 "nbformat": 4,
 "nbformat_minor": 2
}
