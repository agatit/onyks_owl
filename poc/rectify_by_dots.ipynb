{
 "cells": [
  {
   "cell_type": "code",
   "execution_count": null,
   "metadata": {},
   "outputs": [
    {
     "ename": "",
     "evalue": "",
     "output_type": "error",
     "traceback": [
      "\u001b[1;31mRunning cells with 'py312' requires the ipykernel package.\n",
      "\u001b[1;31mRun the following command to install 'ipykernel' into the Python environment. \n",
      "\u001b[1;31mCommand: 'conda install -n py312 ipykernel --update-deps --force-reinstall'"
     ]
    }
   ],
   "source": [
    "%load_ext autoreload\n",
    "%autoreload 2\n",
    "%matplotlib inline\n",
    "\n",
    "import cv2\n",
    "import matplotlib.pyplot as plt\n",
    "import numpy as np\n",
    "import json\n",
    "import ipywidgets as widgets\n",
    "from IPython.display import display\n",
    "import importlib\n",
    "\n",
    "from PIL import Image"
   ]
  },
  {
   "cell_type": "markdown",
   "metadata": {},
   "source": [
    "## Import linii "
   ]
  },
  {
   "cell_type": "code",
   "execution_count": 21,
   "metadata": {},
   "outputs": [
    {
     "name": "stdout",
     "output_type": "stream",
     "text": [
      "[[[5, 125], [34, 115], [75, 102], [111, 95], [151, 87], [194, 73], [230, 65], [272, 59], [311, 51], [353, 47]], [[614, 25], [1903, 287], [728, 27], [1864, 268], [917, 34], [1763, 222], [1134, 59], [1637, 175], [1335, 95], [1476, 125]], [[465, 647], [1905, 714], [611, 668], [1756, 720], [795, 684], [1626, 723], [981, 696], [1500, 718], [1153, 711], [1357, 716]], [[509, 599], [1896, 682], [627, 615], [1803, 683], [759, 637], [1669, 680], [925, 649], [1506, 679], [1129, 662], [1348, 678]], [[11, 774], [1901, 887], [79, 803], [1768, 917], [246, 859], [1525, 960], [477, 916], [1283, 974], [700, 948], [976, 968]], [[13, 732], [1901, 851], [1629, 897], [190, 792], [470, 855], [921, 916], [1248, 925], [1439, 913], [1772, 881], [659, 887]], [[1594, 849], [1474, 859], [1367, 859], [587, 823], [489, 803], [385, 782], [295, 762], [887, 843], [1119, 851], [1272, 856]]]\n",
      "[[[21, 742], [74, 760], [131, 782], [197, 803], [279, 827], [364, 846], [462, 868], [584, 889], [695, 908], [832, 918], [964, 936], [1091, 939], [1207, 933], [1321, 934], [1437, 926], [1523, 922], [1607, 913], [1675, 892], [1739, 889], [1793, 876]], [[19, 691], [45, 703], [76, 711], [104, 720], [138, 732], [182, 744], [219, 755], [259, 762], [310, 775], [362, 783], [415, 791], [476, 807], [531, 814], [606, 824], [673, 833], [744, 840], [813, 848], [890, 853], [967, 863], [1037, 865]], [[1676, 844], [1631, 853], [1585, 856], [1541, 861], [1490, 863], [1437, 861], [1377, 866], [1321, 869], [1248, 865], [1179, 874], [1108, 871], [1031, 864], [963, 863], [891, 856], [813, 851], [739, 844], [672, 830], [595, 825], [533, 813], [473, 802]], [[105, 796], [172, 820], [254, 843], [344, 865], [447, 887], [562, 911], [688, 931], [828, 944], [970, 957], [1099, 959], [1231, 958], [1344, 958], [1452, 949], [1542, 939], [1626, 925], [1702, 916], [1755, 905], [1819, 892], [1872, 876], [1900, 860]]]\n"
     ]
    }
   ],
   "source": [
    "file_paths = {\n",
    "    \"vertical_horizontal\": {\n",
    "        \"resource\": \"resources/lines/wagon/low_10_n.json\",\n",
    "        \"image\": \"resources/lines/wagon/wagon.png\"\n",
    "    },\n",
    "    \"szyny\": {\n",
    "        \"resource\": \"resources/lines/szyny/szyny.json\",\n",
    "        \"image\": \"resources/lines/szyny/szyny.png\"\n",
    "    }\n",
    "}\n",
    "\n",
    "file_path = file_paths[\"vertical_horizontal\"][\"resource\"]\n",
    "with open(file_path, \"r\") as file:\n",
    "    vertical_horizontal = json.load(file)\n",
    "\n",
    "file_path = file_paths[\"szyny\"][\"resource\"]\n",
    "with open(file_path, \"r\") as file:\n",
    "    distances = json.load(file)\n",
    "\n",
    "\n",
    "print(vertical_horizontal[0][\"lines\"])\n",
    "print(distances[0][\"lines\"])"
   ]
  },
  {
   "cell_type": "code",
   "execution_count": 22,
   "metadata": {},
   "outputs": [
    {
     "name": "stdout",
     "output_type": "stream",
     "text": [
      "horizontal [10, 10, 10, 10, 10, 10, 10]\n",
      "vertical [10, 10, 10, 10, 10, 10, 10, 10, 10, 10, 10, 10, 10, 10]\n",
      "(liczba linii, liczba punktów w linii, współrzędne x i y)\n",
      "horizontal: (7, 10, 2), vertical: (14, 10, 2)\n"
     ]
    }
   ],
   "source": [
    "def check_if_all_equal(list):\n",
    "    if len(list) < 2:\n",
    "        return True\n",
    "    return all(ele == list[0] for ele in list)\n",
    "\n",
    "horizontal_line_length = [len(i) for i in vertical_horizontal[0][\"lines\"]] \n",
    "vertical_line_length = [len(i) for i in vertical_horizontal[1][\"lines\"]]\n",
    "print(\"horizontal\", horizontal_line_length)\n",
    "print(\"vertical\", vertical_line_length)\n",
    "\n",
    "horizontal_points = np.array(vertical_horizontal[0][\"lines\"], dtype=np.float64)\n",
    "vertical_points = np.array(vertical_horizontal[1][\"lines\"], dtype=np.float64)\n",
    "\n",
    "distances_array = np.array(distances[0][\"lines\"], dtype=np.float64)\n",
    "\n",
    "print(\"(liczba linii, liczba punktów w linii, współrzędne x i y)\")\n",
    "print(f\"horizontal: {horizontal_points.shape}, vertical: {vertical_points.shape}\")"
   ]
  },
  {
   "cell_type": "markdown",
   "metadata": {},
   "source": [
    "## Wyświetlanie punktów na obrazie "
   ]
  },
  {
   "cell_type": "code",
   "execution_count": 23,
   "metadata": {},
   "outputs": [],
   "source": [
    "from enum import Enum\n",
    "from dataclasses import dataclass\n",
    "\n",
    "\n",
    "def scale_image_by_percent(image, percent):\n",
    "    width = int(image.shape[1] * percent / 100)\n",
    "    height = int(image.shape[0] * percent / 100)\n",
    "    dim = (width, height)\n",
    "\n",
    "    return cv2.resize(image, dim, interpolation=cv2.INTER_AREA)\n",
    "\n",
    "\n",
    "class DotStyles(Enum):\n",
    "    original_horizontal = {\n",
    "        \"radius\": 5,\n",
    "        \"thickness\": -1,\n",
    "        \"color\": (255, 0, 0)\n",
    "    }\n",
    "    original_vertical = {\n",
    "        \"radius\": 5,\n",
    "        \"thickness\": -1,\n",
    "        \"color\": (255, 125, 125)\n",
    "    }\n",
    "    rectified_horizontal = {\n",
    "        \"radius\": 5,\n",
    "        \"thickness\": -1,\n",
    "        \"color\": (0, 0, 255)\n",
    "    }\n",
    "    rectified_vertical = {\n",
    "        \"radius\": 5,\n",
    "        \"thickness\": -1,\n",
    "        \"color\": (125, 125, 255)\n",
    "    }\n",
    "\n",
    "\n",
    "@dataclass\n",
    "class DotDisplay:\n",
    "    lines: np.ndarray\n",
    "    style: DotStyles\n",
    "\n",
    "\n",
    "def display_image_with_points(image, window_name, display_scale=70, *dot_displays):\n",
    "    img = image.copy()\n",
    "\n",
    "    for dot_display in dot_displays:\n",
    "        for line in dot_display.lines.astype(int):\n",
    "            for point in line:\n",
    "                cv2.circle(img, center=point, **dot_display.style.value)\n",
    "\n",
    "    cv2.imshow(window_name, scale_image_by_percent(img, display_scale))\n",
    "    cv2.waitKey(0)"
   ]
  },
  {
   "cell_type": "code",
   "execution_count": 24,
   "metadata": {},
   "outputs": [
    {
     "data": {
      "application/vnd.jupyter.widget-view+json": {
       "model_id": "5895af5ec29b447eacfeaf1bcf8a8106",
       "version_major": 2,
       "version_minor": 0
      },
      "text/plain": [
       "Button(description='show std image', style=ButtonStyle())"
      ]
     },
     "metadata": {},
     "output_type": "display_data"
    },
    {
     "data": {
      "application/vnd.jupyter.widget-view+json": {
       "model_id": "696a23eaf2f7481c9693c129c7a7d1c6",
       "version_major": 2,
       "version_minor": 0
      },
      "text/plain": [
       "Button(description='show distance image', style=ButtonStyle())"
      ]
     },
     "metadata": {},
     "output_type": "display_data"
    }
   ],
   "source": [
    "horizontal_display = DotDisplay(horizontal_points, DotStyles.original_horizontal)\n",
    "vertical_display = DotDisplay(vertical_points, DotStyles.original_vertical)\n",
    "distances_display =  DotDisplay(distances_array, DotStyles.original_vertical)\n",
    "\n",
    "std_button = widgets.Button(description = \"show std image\")\n",
    "distance_button = widgets.Button(description = \"show distance image\")\n",
    "\n",
    "display(std_button, distance_button)\n",
    "\n",
    "def std_button_clicked(b):\n",
    "    image = cv2.imread(file_paths[\"vertical_horizontal\"][\"image\"])\n",
    "    display_image_with_points(image, \"original\", 70, horizontal_display, vertical_display)\n",
    "    \n",
    "def distance_button_clicked(b):\n",
    "    image = cv2.imread(file_paths[\"szyny\"][\"image\"])\n",
    "    display_image_with_points(image, \"original\", 70, distances_display)\n",
    "    \n",
    "    \n",
    "std_button.on_click(std_button_clicked)\n",
    "distance_button.on_click(distance_button_clicked)"
   ]
  },
  {
   "cell_type": "markdown",
   "metadata": {},
   "source": [
    "## Optymalizacja "
   ]
  },
  {
   "cell_type": "code",
   "execution_count": 25,
   "metadata": {},
   "outputs": [],
   "source": [
    "from itertools import tee\n",
    "\n",
    "\n",
    "def pairwise(iterable):\n",
    "    # pairwise('ABCDEFG') --> AB BC CD DE EF FG\n",
    "    a, b = tee(iterable)\n",
    "    next(b, None)\n",
    "    return list(zip(a, b))\n",
    "\n",
    "def middle_value(array):\n",
    "    length = array.shape[1]\n",
    "\n",
    "    if length % 2 == 0:\n",
    "        upper_index = length // 2 \n",
    "        lower_index = lower_index - 1\n",
    "        return (array[:, lower_index] + array[:, upper_index]) / 2\n",
    "    else:\n",
    "        middle_index = length // 2\n",
    "        return array[:, middle_index]\n",
    "    \n",
    "def deviation(array, mean_array):\n",
    "    x = abs(array - mean_array)**2\n",
    "    return np.sqrt(np.mean(x, 1))\n",
    "\n",
    "def calc_distance(array):\n",
    "    x = array[:, :, 0]\n",
    "    x = np.apply_along_axis(pairwise, 1, x)\n",
    "    x = np.abs(x[:, :, 0] - x[:, :, 1])\n",
    "\n",
    "    # middle = middle_value(x)\n",
    "    # return deviation(x, middle.reshape(len(middle), 1)).sum()\n",
    "    return x.std(axis=1).sum()"
   ]
  },
  {
   "cell_type": "code",
   "execution_count": 26,
   "metadata": {},
   "outputs": [],
   "source": [
    "from scipy.optimize import minimize\n",
    "import math\n",
    "import cv2\n",
    "\n",
    "# global\n",
    "sensor_h = 3.69\n",
    "sensor_w = 7.38\n",
    "W = 1920\n",
    "H = 1080\n",
    "\n",
    "weights = {\n",
    "    \"std\": 0.7,\n",
    "    \"distance\": 1\n",
    "}\n",
    "\n",
    "def rectify_points(config, points):\n",
    "    X = config[0]\n",
    "    Y = config[1]\n",
    "    alpha = config[2]\n",
    "    beta = config[3]\n",
    "    gamma = config[4]\n",
    "    focus = config[5]\n",
    "    scale = config[6]\n",
    "    dist = config[7:]\n",
    "\n",
    "    Rx = np.array([[1, 0, 0], [0, math.cos(alpha), -math.sin(alpha)], [0, math.sin(alpha), math.cos(alpha)]])\n",
    "    Ry = np.array([[math.cos(beta), 0, -math.sin(beta)], [0, 1, 0], [math.sin(beta), 0, math.cos(beta)]])\n",
    "    Rz = np.array([[math.cos(gamma), -math.sin(gamma), 0], [math.sin(gamma), math.cos(gamma), 0], [0, 0, 1]])\n",
    "    R = np.matmul(Rx, np.matmul(Ry, Rz))\n",
    "\n",
    "    K = np.array([\n",
    "        [W * focus / sensor_w, 0, W // 2],\n",
    "        [0, H * focus / sensor_h, H // 2],\n",
    "        [0, 0, 1]])\n",
    "    new_K = np.array([\n",
    "        [W * focus / sensor_w, 0, scale * W // 2 + X, 0],\n",
    "        [0, H * focus / sensor_h, scale * H // 2 + Y, 0],\n",
    "        [0, 0, 1, 0]])\n",
    "\n",
    "    res = cv2.undistortPoints(points, K, dist, R=R, P=new_K)\n",
    "    return np.reshape(res, (-1, 2)) \n",
    "\n",
    "def rectify_lines(config, lines):\n",
    "    result = np.zeros(lines.shape)\n",
    "    \n",
    "    for index, points in enumerate(lines):\n",
    "        result[index] = rectify_points(config, points) \n",
    "\n",
    "    return result\n",
    "\n",
    "\n",
    "def objective_function(x, horizontal, vertical, distances):\n",
    "    horizontal_rectified = rectify_lines(x, horizontal) \n",
    "    vertical_rectified = rectify_lines(x, vertical)\n",
    "    distances_rectified = rectify_lines(x, distances)\n",
    "\n",
    "    # odchylenia standardowe dla każdej linii\n",
    "    horizontal_std = horizontal_rectified[:, :, 1].std(axis=1)\n",
    "    vertical_std = vertical_rectified[:, :, 0].std(axis=1)\n",
    "\n",
    "    stds = weights[\"std\"] * (horizontal_std.sum() + vertical_std.sum())\n",
    "    distance = weights[\"distance\"] * calc_distance(distances_rectified)\n",
    "\n",
    "    return stds + distance  \n",
    "    \n"
   ]
  },
  {
   "cell_type": "code",
   "execution_count": 30,
   "metadata": {},
   "outputs": [
    {
     "name": "stdout",
     "output_type": "stream",
     "text": [
      "607.5840674621836\n"
     ]
    },
    {
     "name": "stderr",
     "output_type": "stream",
     "text": [
      "C:\\Users\\wrzezniczak\\AppData\\Local\\Temp\\ipykernel_13092\\1361922071.py:45: OptimizeWarning: Initial guess is not within the specified bounds\n",
      "  res = minimize(objective_function, x0, **minimize_params)\n"
     ]
    },
    {
     "name": "stdout",
     "output_type": "stream",
     "text": [
      "Optimization terminated successfully.\n",
      "         Current function value: 137.926075\n",
      "         Iterations: 9758\n",
      "         Function evaluations: 13290\n"
     ]
    }
   ],
   "source": [
    "bounds = {\n",
    "    'X': (-100, 100), \n",
    "    'Y': (40, 120), \n",
    "    'alpha': (-0.1, 0.1), \n",
    "    'beta': (-0.1, 0.1), \n",
    "    'gamma': (-0.1, 0.1), \n",
    "    \"focus\": (1.5, 6.0),\n",
    "    \"scale\": (1.0, 1.0),\n",
    "    'k1': (-0.2, 0.2),\n",
    "    'k2': (-0.2, 0.2),\n",
    "    'k3': (-0.2, 0.2),\n",
    "    'p1': (-0.2, 0.2),\n",
    "    'p2': (-0.2, 0.2)\n",
    "}\n",
    "\n",
    "init_values = {\n",
    "    'X': 0, \n",
    "    'Y': 0, \n",
    "    'alpha': 0, \n",
    "    'beta': 0, \n",
    "    'gamma': 0,\n",
    "    \"focus\": 4,\n",
    "    \"scale\": 1,\n",
    "    'k1': 0,\n",
    "    'k2': 0,\n",
    "    'k3': 0,\n",
    "    'p1': 0,\n",
    "    'p2': 0\n",
    "}\n",
    "\n",
    "x0 = np.array(list(init_values.values()))\n",
    "bounds_list = list(bounds.values())\n",
    "\n",
    "res = objective_function(x0, horizontal_points, vertical_points, distances_array)\n",
    "print(res)\n",
    "\n",
    "minimize_params = {\n",
    "    \"method\": \"nelder-mead\",\n",
    "    \"args\": (horizontal_points, vertical_points, distances_array),\n",
    "    \"bounds\": bounds_list,\n",
    "    \"options\": {'disp': True, \"maxiter\": 50000},\n",
    "    # \"tol\": 0.1\n",
    "}\n",
    "\n",
    "res = minimize(objective_function, x0, **minimize_params)"
   ]
  },
  {
   "cell_type": "code",
   "execution_count": 31,
   "metadata": {},
   "outputs": [
    {
     "data": {
      "text/plain": [
       "       message: Optimization terminated successfully.\n",
       "       success: True\n",
       "        status: 0\n",
       "           fun: 137.92607534579932\n",
       "             x: [ 2.406e-02  6.084e+01  9.876e-02 -2.174e-02 -7.399e-02\n",
       "                  1.500e+00  1.000e+00 -3.973e-02  1.494e-03 -3.202e-04\n",
       "                  6.750e-04 -2.914e-05]\n",
       "           nit: 9758\n",
       "          nfev: 13290\n",
       " final_simplex: (array([[ 2.406e-02,  6.084e+01, ...,  6.750e-04,\n",
       "                        -2.914e-05],\n",
       "                       [ 2.406e-02,  6.084e+01, ...,  6.750e-04,\n",
       "                        -2.914e-05],\n",
       "                       ...,\n",
       "                       [ 2.406e-02,  6.084e+01, ...,  6.750e-04,\n",
       "                        -2.914e-05],\n",
       "                       [ 2.406e-02,  6.084e+01, ...,  6.750e-04,\n",
       "                        -2.914e-05]]), array([ 1.379e+02,  1.379e+02, ...,  1.379e+02,  1.379e+02]))"
      ]
     },
     "execution_count": 31,
     "metadata": {},
     "output_type": "execute_result"
    }
   ],
   "source": [
    "res"
   ]
  },
  {
   "cell_type": "code",
   "execution_count": 32,
   "metadata": {},
   "outputs": [
    {
     "data": {
      "text/plain": [
       "{'sensor_h': 3.69,\n",
       " 'sensor_w': 7.38,\n",
       " 'X': 0.024064762579324835,\n",
       " 'Y': 60.84379344276333,\n",
       " 'alpha': 0.0987555487449152,\n",
       " 'beta': -0.02174072785627948,\n",
       " 'gamma': -0.07399145075995611,\n",
       " 'focus': 1.5000000000002707,\n",
       " 'scale': 1.0,\n",
       " 'dist': [-0.03972567115706957,\n",
       "  0.0014939564659998909,\n",
       "  -0.0003202165333903008,\n",
       "  0.0006749853820165214,\n",
       "  -2.914250820232034e-05]}"
      ]
     },
     "execution_count": 32,
     "metadata": {},
     "output_type": "execute_result"
    }
   ],
   "source": [
    "def make_config_from_res(res):\n",
    "    return {\n",
    "        'sensor_h': sensor_h,\n",
    "        'sensor_w': sensor_w,\n",
    "        'X': res.x[0],\n",
    "        'Y': res.x[1],\n",
    "        'alpha': res.x[2],\n",
    "        'beta': res.x[3],\n",
    "        'gamma': res.x[4],\n",
    "        'focus': res.x[5],\n",
    "        'scale': res.x[6],\n",
    "        'dist': res.x[7:].tolist()\n",
    "    }\n",
    "\n",
    "rectify_config = make_config_from_res(res)\n",
    "rectify_config"
   ]
  },
  {
   "cell_type": "code",
   "execution_count": 33,
   "metadata": {},
   "outputs": [
    {
     "data": {
      "application/vnd.jupyter.widget-view+json": {
       "model_id": "5e8672743c5548c8be4f0891c9c69a83",
       "version_major": 2,
       "version_minor": 0
      },
      "text/plain": [
       "Button(description='show rectified image', style=ButtonStyle())"
      ]
     },
     "metadata": {},
     "output_type": "display_data"
    }
   ],
   "source": [
    "from stitch.rectify.FrameRectifier import FrameRectifier\n",
    "\n",
    "frame_rectifier = FrameRectifier(rectify_config, W, H)\n",
    "\n",
    "def show_rectified(b):\n",
    "    frame_rectifier.calc_maps()\n",
    "    image = cv2.imread(file_paths[\"vertical_horizontal\"][\"image\"])\n",
    "    rectified_image = frame_rectifier.rectify(image)\n",
    "\n",
    "    rectified_image = scale_image_by_percent(rectified_image, 50)\n",
    "    cv2.imshow('Frame', rectified_image)\n",
    "    cv2.waitKey(0)\n",
    "    cv2.destroyAllWindows()\n",
    "\n",
    "rectify_button = widgets.Button(description = \"show rectified image\")\n",
    "\n",
    "\n",
    "\n",
    "display(rectify_button)\n",
    "\n",
    "rectify_button.on_click(show_rectified)"
   ]
  },
  {
   "cell_type": "markdown",
   "metadata": {},
   "source": [
    "## Eksport"
   ]
  },
  {
   "cell_type": "code",
   "execution_count": 34,
   "metadata": {},
   "outputs": [
    {
     "data": {
      "application/vnd.jupyter.widget-view+json": {
       "model_id": "15ba7e8045cc48a3947abe3438147fc2",
       "version_major": 2,
       "version_minor": 0
      },
      "text/plain": [
       "Text(value='rectify_config.json', description='Output file:')"
      ]
     },
     "metadata": {},
     "output_type": "display_data"
    },
    {
     "data": {
      "application/vnd.jupyter.widget-view+json": {
       "model_id": "32bff0d5a3cc4b5885faad3039e5178c",
       "version_major": 2,
       "version_minor": 0
      },
      "text/plain": [
       "Button(description='export config', style=ButtonStyle())"
      ]
     },
     "metadata": {},
     "output_type": "display_data"
    }
   ],
   "source": [
    "\n",
    "export_button = widgets.Button(description = \"export config\")\n",
    "text_field = widgets.Text(\n",
    "    value='rectify_config.json',\n",
    "    description='Output file:'\n",
    ")\n",
    "\n",
    "display(text_field, export_button)\n",
    "\n",
    "def export_config(b):\n",
    "    file_name = text_field.value\n",
    "\n",
    "    with open(file_name, 'w') as f:\n",
    "        json.dump(rectify_config, f)\n",
    "\n",
    "    print(f\"{file_name} saved\")\n",
    "\n",
    "export_button.on_click(export_config)"
   ]
  }
 ],
 "metadata": {
  "kernelspec": {
   "display_name": "Python 3",
   "language": "python",
   "name": "python3"
  },
  "language_info": {
   "codemirror_mode": {
    "name": "ipython",
    "version": 3
   },
   "file_extension": ".py",
   "mimetype": "text/x-python",
   "name": "python",
   "nbconvert_exporter": "python",
   "pygments_lexer": "ipython3",
   "version": "3.9.16"
  },
  "orig_nbformat": 4
 },
 "nbformat": 4,
 "nbformat_minor": 2
}
